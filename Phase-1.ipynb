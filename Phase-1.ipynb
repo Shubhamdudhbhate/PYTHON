{
 "cells": [
  {
   "cell_type": "code",
   "execution_count": 2,
   "id": "40b2dff7",
   "metadata": {},
   "outputs": [],
   "source": [
    "import numpy as np\n"
   ]
  },
  {
   "cell_type": "code",
   "execution_count": 4,
   "id": "204aaec0",
   "metadata": {},
   "outputs": [
    {
     "name": "stdout",
     "output_type": "stream",
     "text": [
      "1D Array  [1 2 3 4 5 6]\n"
     ]
    }
   ],
   "source": [
    "arr = np.array([1,2,3,4,5,6])\n",
    "print(\"1D Array \" ,arr )"
   ]
  },
  {
   "cell_type": "code",
   "execution_count": 31,
   "id": "1578e52e",
   "metadata": {},
   "outputs": [],
   "source": [
    "import time\n",
    "\n",
    "py_list = [1,2,3,4,5895698789556,5,8,9]"
   ]
  },
  {
   "cell_type": "code",
   "execution_count": 32,
   "id": "d96fdbe9",
   "metadata": {},
   "outputs": [
    {
     "name": "stdout",
     "output_type": "stream",
     "text": [
      "\n",
      " List Operation time  0.18234682083129883\n"
     ]
    }
   ],
   "source": [
    "start = time.time()\n",
    "py_list  = [i*2 for i in range(1000000)]\n",
    "print (\"\\n List Operation time \" , time.time() - start)"
   ]
  },
  {
   "cell_type": "code",
   "execution_count": 33,
   "id": "e6745ac0",
   "metadata": {},
   "outputs": [
    {
     "name": "stdout",
     "output_type": "stream",
     "text": [
      "\n",
      "  Numpy Operation List Operation time  0.009526252746582031\n"
     ]
    }
   ],
   "source": [
    "start = time.time()\n",
    "np_array = np.arange(1000000)*2\n",
    "print (\"\\n  Numpy Operation List Operation time \" , time.time() - start)"
   ]
  }
 ],
 "metadata": {
  "kernelspec": {
   "display_name": "Python 3",
   "language": "python",
   "name": "python3"
  },
  "language_info": {
   "codemirror_mode": {
    "name": "ipython",
    "version": 3
   },
   "file_extension": ".py",
   "mimetype": "text/x-python",
   "name": "python",
   "nbconvert_exporter": "python",
   "pygments_lexer": "ipython3",
   "version": "3.10.11"
  }
 },
 "nbformat": 4,
 "nbformat_minor": 5
}
